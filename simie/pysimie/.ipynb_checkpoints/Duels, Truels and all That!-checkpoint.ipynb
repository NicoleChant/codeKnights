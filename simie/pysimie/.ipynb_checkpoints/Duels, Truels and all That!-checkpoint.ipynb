{
 "cells": [
  {
   "cell_type": "code",
   "execution_count": 5,
   "id": "0f222293",
   "metadata": {},
   "outputs": [],
   "source": [
    "from players import *"
   ]
  },
  {
   "cell_type": "code",
   "execution_count": null,
   "id": "40732ff9",
   "metadata": {},
   "outputs": [],
   "source": [
    "players = [Player(\"A\" , 20 , 0 , 30 , 30 ,  ),\n",
    "           Player(\"B\" , 20)    ]"
   ]
  },
  {
   "cell_type": "code",
   "execution_count": 7,
   "id": "46008ea6",
   "metadata": {},
   "outputs": [
    {
     "name": "stderr",
     "output_type": "stream",
     "text": [
      "2022-07-16 13:40:48,914:Player A has been instantiated!\n",
      "2022-07-16 13:40:48,917:Player B has been instantiated!\n",
      "2022-07-16 13:40:48,918:Player C has been instantiated!\n"
     ]
    },
    {
     "data": {
      "text/plain": [
       "[CustomPlayer(name='A', health=20.0, armor=0.0, lower_damage=30.0, upper_damage=30.0, dodge_chance=0.1, max_health=20.0, target=None),\n",
       " CustomPlayer(name='B', health=20.0, armor=0.0, lower_damage=30.0, upper_damage=30.0, dodge_chance=0.2, max_health=20.0, target=None),\n",
       " CustomPlayer(name='C', health=20.0, armor=0.0, lower_damage=30.0, upper_damage=30.0, dodge_chance=0.3, max_health=20.0, target=None)]"
      ]
     },
     "execution_count": 7,
     "metadata": {},
     "output_type": "execute_result"
    }
   ],
   "source": [
    "class CustomPlayer(Player):\n",
    "    \n",
    "    @classmethod\n",
    "    def dummyPlayer(cls , name , dodgeChance):\n",
    "        return cls(name , 20 , 0 , 30 , 30 , dodgeChance)\n",
    "    \n",
    "names = \"ABC\"\n",
    "dodgeChances = [0.1, 0.2 , 0.3]\n",
    "combatants = [CustomPlayer.dummyPlayer(name , dodge) for name , dodge in zip(names,dodgeChances)]\n",
    "combatants"
   ]
  },
  {
   "cell_type": "code",
   "execution_count": 9,
   "id": "4b037e1a",
   "metadata": {},
   "outputs": [
    {
     "name": "stderr",
     "output_type": "stream",
     "text": [
      "2022-07-16 13:41:45,950:Game has been initialized!\n",
      "2022-07-16 13:41:45,951:A stares aggresively at B.\n",
      "2022-07-16 13:41:45,952:B stares aggresively at C.\n",
      "2022-07-16 13:41:45,953:C stares aggresively at A.\n",
      "2022-07-16 13:41:45,954:************************* Round 1 *************************\n",
      "2022-07-16 13:41:45,955:Player A strikes B for 30.00 damage (physical)!\n",
      "2022-07-16 13:41:45,955:Player B has deceased :(\n",
      "2022-07-16 13:41:45,956:Player B strikes C for 30.00 damage (physical)!\n",
      "2022-07-16 13:41:45,957:Player C has deceased :(\n",
      "2022-07-16 13:41:45,958:Player C strikes A for 30.00 damage (physical)!\n",
      "2022-07-16 13:41:45,959:Player A has deceased :(\n",
      "2022-07-16 13:41:45,960:************************* Round 2 *************************\n",
      "2022-07-16 13:41:45,962:Game has ended in rounds=2!\n",
      "2022-07-16 13:41:45,963:The game ended in a DRAW!\n"
     ]
    }
   ],
   "source": [
    "Game().start(combatants)"
   ]
  },
  {
   "cell_type": "code",
   "execution_count": 171,
   "id": "7f2d7858",
   "metadata": {},
   "outputs": [],
   "source": [
    "from dataclasses import dataclass , field\n",
    "import sys\n",
    "from typing import Union , ClassVar\n",
    "\n",
    "class ImmutableList(type):\n",
    "    \n",
    "    def __setattr__(cls , name , val):\n",
    "        if name in [\"damage\",\"max_health\"]:\n",
    "            raise AttributeError(f\"Trying to mutate immutable attribute {name}.\")\n",
    "        else:\n",
    "            return type.__setattr__(cls , name , value)\n",
    "            \n",
    "\n",
    "@dataclass(slots=True)\n",
    "class Player:\n",
    "    \n",
    "    __metaclass__ = ImmutableList\n",
    "    name : str\n",
    "    health : float\n",
    "    max_health : float = field(init = False)\n",
    "    damage : float = field(init = False , default = sys.maxsize)\n",
    "    dodge_chance : float\n",
    "    target : Union[None , Player] = field(init = False , default = None , repr = False)\n",
    "    players : ClassVar[dict[str,Player]] = {}\n",
    "    \n",
    "    def __post_init__(self):\n",
    "        self.max_health = self.health\n",
    "        Player.players.update({self.name : self})\n",
    "        \n",
    "    def is_alive(self):\n",
    "        return self.health > 0\n",
    "    \n",
    "    def resurrect(self):\n",
    "        self.health = self.max_health\n",
    "    \n",
    "    def set_target(self , other):\n",
    "        self.target = other\n",
    "        \n",
    "    def attack(self):\n",
    "        if self.target is None:\n",
    "            raise TypeError(\"Have yet to define a valid target\")\n",
    "        \n",
    "        if random.random() <= self.dodge_chance:\n",
    "            self.target.health -= self.damage\n",
    "        \n",
    "    @classmethod\n",
    "    def producePlayer(cls , name , dodge_chance):\n",
    "        return cls(name , 100 , dodge_chance)"
   ]
  },
  {
   "cell_type": "code",
   "execution_count": 172,
   "id": "0786012e",
   "metadata": {
    "scrolled": true
   },
   "outputs": [],
   "source": [
    "player_one = Player.producePlayer(\"Nicole\",0.1)"
   ]
  },
  {
   "cell_type": "code",
   "execution_count": 173,
   "id": "b2dc6a13",
   "metadata": {},
   "outputs": [],
   "source": [
    "player_two = Player.producePlayer(\"Alice\",0.2)"
   ]
  },
  {
   "cell_type": "code",
   "execution_count": 174,
   "id": "e8671be0",
   "metadata": {},
   "outputs": [],
   "source": [
    "import logging\n",
    "\n",
    "def start_game(players):\n",
    "    \n",
    "    idx = 0\n",
    "    players[0].set_target(players[1])\n",
    "    players[1].set_target(players[0])\n",
    "    while True:\n",
    "        \n",
    "        players[idx%len(players)].attack()\n",
    "        \n",
    "        if not players[(idx+1)%len(players)].is_alive():\n",
    "            break\n",
    "        else:\n",
    "            idx += 1\n",
    "            \n",
    "    for player in players:\n",
    "        player.resurrect()\n",
    "        \n",
    "    return idx%len(players)\n",
    "        "
   ]
  },
  {
   "cell_type": "code",
   "execution_count": 175,
   "id": "5b79b1d4",
   "metadata": {},
   "outputs": [
    {
     "data": {
      "text/plain": [
       "0"
      ]
     },
     "execution_count": 175,
     "metadata": {},
     "output_type": "execute_result"
    }
   ],
   "source": [
    "start_game([player_one, player_two])"
   ]
  },
  {
   "cell_type": "code",
   "execution_count": 176,
   "id": "e5717b80",
   "metadata": {},
   "outputs": [
    {
     "data": {
      "text/plain": [
       "Player(name='Nicole', health=100, max_health=100, damage=9223372036854775807, dodge_chance=0.1)"
      ]
     },
     "execution_count": 176,
     "metadata": {},
     "output_type": "execute_result"
    }
   ],
   "source": [
    "player_one"
   ]
  },
  {
   "cell_type": "code",
   "execution_count": 177,
   "id": "fbbfee76",
   "metadata": {},
   "outputs": [],
   "source": [
    "import numpy as np\n",
    "\n",
    "total_epochs = 1000\n",
    "dodge_chances = np.arange(0.1 , 1.0 , 0.025)\n",
    "winning_stats = {}\n",
    "for x_chance in dodge_chances:\n",
    "    for y_chance in dodge_chances:\n",
    "        players = [Player.producePlayer(\"Nicole\",x_chance) , \n",
    "                   Player.producePlayer(\"Bob\",y_chance)]\n",
    "        winning_stats[ (x_chance , y_chance) ] = 0\n",
    "        for epoch in range(total_epochs):\n",
    "            winning_stats[ (x_chance , y_chance) ] += 1 - start_game(players)\n",
    "        winning_stats[ (x_chance , y_chance)] /= total_epochs"
   ]
  },
  {
   "cell_type": "markdown",
   "id": "ac95ef70",
   "metadata": {},
   "source": [
    "Consider two players hitting at each other. Let $a$ the probability of Bob hitting Alice in a sequential duel. Let $p$ denote the probability of win for player Bob.\n",
    "\n",
    "\\begin{equation}\n",
    "\\begin{split}\n",
    "P ( \\text{Alice wins} ) & = \\sum_{round=1}^{\\infty} a (1-a)^{round-1} (1-b)^{round-1} \\\\ \n",
    "                        & = \\frac{a}{1 - (1-a)(1-b)} \\\\\n",
    "P ( \\text{Bob wins} ) & = \\sum_{round=1}^{\\infty} b ( 1 - a )^{round} (1-b)^{round-1} \\\\\n",
    "                      & = \\frac{b(1-a)}{1 - (1-a)(1-b)} \\\\\n",
    "\\end{split}\n",
    "\\end{equation}\n",
    "\n",
    "\\begin{equation}\n",
    "\\begin{split}\n",
    "& P ( \\text{Alice wins} ) > P ( \\text{Bob wins} ) \\\\\n",
    "& \\frac{a}{1 - (1-a)(1-b)} > \\frac{b(1-a)}{1 - (1-a)(1-b)} \\\\\n",
    "& \\frac{a}{1-a} > b \\\\\n",
    "& a - b + a b > 0\n",
    "\\end{split}\n",
    "\\end{equation}\n",
    "\n",
    "Notice that if $a/(1-a) > 1$, or equivalently, $a > 0.5$, then the probability of Alice winning is always greater than the probability of Bob winning the paintball duel, since $1 > b$ always strictly."
   ]
  },
  {
   "cell_type": "code",
   "execution_count": 178,
   "id": "5dd598c6",
   "metadata": {},
   "outputs": [],
   "source": [
    "def prob_alice_wins(a,b):\n",
    "    return a/(a + b - a*b)\n",
    "\n",
    "def prob_bob_wins(a,b):\n",
    "    return 1 - prob_alice_wins(a,b)"
   ]
  },
  {
   "cell_type": "code",
   "execution_count": 179,
   "id": "4e9ad05a",
   "metadata": {},
   "outputs": [],
   "source": [
    "import matplotlib.pyplot as plt\n",
    "import seaborn as sns\n",
    "from scipy.stats import beta"
   ]
  },
  {
   "cell_type": "code",
   "execution_count": 180,
   "id": "2b4a7ce7",
   "metadata": {},
   "outputs": [],
   "source": [
    "players = [Player.producePlayer(\"Nicole\",0.4), \n",
    "           Player.producePlayer(\"Bob\",0.6)]"
   ]
  },
  {
   "cell_type": "code",
   "execution_count": 181,
   "id": "b915d518",
   "metadata": {},
   "outputs": [
    {
     "data": {
      "image/png": "[encoded data removed]",
      "text/plain": [
       "<Figure size 500x300 with 1 Axes>"
      ]
     },
     "metadata": {},
     "output_type": "display_data"
    }
   ],
   "source": [
    "a = np.linspace(0.0001 , 0.99 , 100)\n",
    "b = lambda a : a/(1-a)\n",
    "\n",
    "with plt.style.context(\"seaborn\"):\n",
    "    fig , ax = plt.subplots(nrows = 1 , ncols = 1 , figsize = (5,3))\n",
    "    ax.plot(a , b(a))\n",
    "    ax.fill_between(a,b(a),color=\"orange\",alpha = 0.4)\n",
    "    ax.axvline(0.5 , color = \"maroon\" , linestyle = '--')\n",
    "    ax.set_ylim(0,1)\n",
    "    ax.set_xticks(np.arange(0.0,1,0.1))"
   ]
  },
  {
   "cell_type": "code",
   "execution_count": 182,
   "id": "30185c39",
   "metadata": {},
   "outputs": [
    {
     "data": {
      "image/png": "[encoded data removed]",
      "text/plain": [
       "<Figure size 700x400 with 2 Axes>"
      ]
     },
     "metadata": {},
     "output_type": "display_data"
    }
   ],
   "source": [
    "def func(a,b):\n",
    "    return a/(a+b-a*b)\n",
    "\n",
    "X , Y = np.meshgrid( np.linspace(0.001,0.999,100) , np.linspace(0.001,0.99,100))\n",
    "Z = func(X,Y)\n",
    "fig , ax = plt.subplots(nrows = 1 , ncols = 1 , figsize = (7,4))\n",
    "cs_ = ax.contourf(X , Y , Z);\n",
    "fig.colorbar(cs_);"
   ]
  },
  {
   "cell_type": "code",
   "execution_count": 212,
   "id": "5fa9c9d8",
   "metadata": {},
   "outputs": [],
   "source": [
    "import logging\n",
    "\n",
    "class Beliefs:\n",
    "    \n",
    "    def __init__(self):\n",
    "        self.a = 1\n",
    "        self.b = 1\n",
    "    \n",
    "    def _beliefs(self):\n",
    "        return lambda x : beta(self.a,self.b).pdf(x)\n",
    "    \n",
    "    def update(self , results : list):\n",
    "        self.a += sum(results)\n",
    "        self.b += len(results) - sum(results)\n",
    "        \n",
    "    def plot(self , figsize = (4,3)):\n",
    "        xs = np.linspace(0.001,0.999,100)\n",
    "        with plt.style.context(\"seaborn\"):\n",
    "            fig , ax = plt.subplots(nrows = 1 , ncols = 1 , figsize = figsize)\n",
    "            ax.plot( xs , self._beliefs()(xs) )\n",
    "            estimator = self._bayes_estimator()\n",
    "            ax.axvline( estimator , color = 'maroon' , linestyle = '--')\n",
    "            ax.annotate( xy = ( estimator , self._beliefs()(estimator)) , \n",
    "                         text = \"%1.2f\" % estimator,\n",
    "                         color = 'seagreen')\n",
    "            return fig\n",
    "        \n",
    "    def _bayes_estimator(self) -> float:\n",
    "        return (self.a)/(self.a + self.b)\n",
    "        \n",
    "    def predict(self) -> int:\n",
    "        return int(self._bayes_estimator >= 0.5)\n",
    "    \n",
    "    def reset(self) -> None:\n",
    "        self.a = self.b = 1\n",
    "        logging.info(\"Beliefs have been reset!\")"
   ]
  },
  {
   "cell_type": "code",
   "execution_count": 213,
   "id": "48103f5a",
   "metadata": {},
   "outputs": [
    {
     "data": {
      "image/png": "[encoded data removed]",
      "text/plain": [
       "<Figure size 400x300 with 1 Axes>"
      ]
     },
     "metadata": {},
     "output_type": "display_data"
    }
   ],
   "source": [
    "beliefs = Beliefs()\n",
    "beliefs.plot();"
   ]
  },
  {
   "cell_type": "code",
   "execution_count": 214,
   "id": "1be34b91",
   "metadata": {},
   "outputs": [],
   "source": [
    "players = [Player.producePlayer(\"Alice\", 0.6),\n",
    "           Player.producePlayer(\"Bob\",0.4)]"
   ]
  },
  {
   "cell_type": "code",
   "execution_count": 215,
   "id": "4ac7dfed",
   "metadata": {},
   "outputs": [
    {
     "data": {
      "text/plain": [
       "(0.21, 0.79)"
      ]
     },
     "execution_count": 215,
     "metadata": {},
     "output_type": "execute_result"
    }
   ],
   "source": [
    "results = [start_game(players) for _ in range(10000)]\n",
    "prob_alice = sum(results)/len(results)\n",
    "prob_bob = 1 - prob_alice\n",
    "prob_alice , prob_bob"
   ]
  },
  {
   "cell_type": "code",
   "execution_count": 235,
   "id": "ebf803b7",
   "metadata": {},
   "outputs": [
    {
     "data": {
      "text/plain": [
       "0.7894736842105263"
      ]
     },
     "execution_count": 235,
     "metadata": {},
     "output_type": "execute_result"
    }
   ],
   "source": [
    "prob_alice_wins(0.6,0.4)"
   ]
  },
  {
   "cell_type": "code",
   "execution_count": 240,
   "id": "ed50fa16",
   "metadata": {},
   "outputs": [],
   "source": [
    "beliefs = Beliefs()\n",
    "results = [1 - start_game(players) for _ in range(20)]\n",
    "beliefs.update(results)"
   ]
  },
  {
   "cell_type": "code",
   "execution_count": 241,
   "id": "cd67d0e5",
   "metadata": {},
   "outputs": [
    {
     "data": {
      "image/png": "[encoded data removed]",
      "text/plain": [
       "<Figure size 400x300 with 1 Axes>"
      ]
     },
     "metadata": {},
     "output_type": "display_data"
    }
   ],
   "source": [
    "beliefs.plot();"
   ]
  },
  {
   "cell_type": "code",
   "execution_count": 242,
   "id": "3218b026",
   "metadata": {},
   "outputs": [],
   "source": [
    "class Bot(Player):\n",
    "    \n",
    "    def set_target(self , adversaries : list[Player]):\n",
    "        target = max(adversaries , key = lambda player : player.dodge_chance)\n",
    "        super().set_target(target)\n",
    "    \n",
    "class TargetProtocol:\n",
    "    \n",
    "    def __init__(self , players : list[Player]):\n",
    "        self.players = players\n",
    "        \n",
    "    def get_alive_players(self):\n",
    "        return filter(lambda player : player.is_alive() , self.players)\n",
    "        \n",
    "    def find_opponents(player : Player) -> list[Player]:\n",
    "        return [adversary for adversary in self.get_alive_players() if adversary is not player]\n",
    "    \n",
    "    def protocol(self):\n",
    "        for player in self.get_alive_players():\n",
    "            adversaries = self.find_opponents(player)\n",
    "            player.set_target(adversaries)"
   ]
  },
  {
   "cell_type": "code",
   "execution_count": null,
   "id": "d40bbcc5",
   "metadata": {},
   "outputs": [],
   "source": []
  },
  {
   "cell_type": "code",
   "execution_count": null,
   "id": "7fb59cea",
   "metadata": {},
   "outputs": [],
   "source": []
  },
  {
   "cell_type": "code",
   "execution_count": null,
   "id": "b1b591c2",
   "metadata": {},
   "outputs": [],
   "source": []
  },
  {
   "cell_type": "code",
   "execution_count": null,
   "id": "b0224c47",
   "metadata": {},
   "outputs": [],
   "source": []
  },
  {
   "cell_type": "code",
   "execution_count": 146,
   "id": "a6d9e064",
   "metadata": {},
   "outputs": [
    {
     "data": {
      "text/plain": [
       "[Player(name='Nicole', health=100, max_health=100, damage=9223372036854775807, dodge_chance=0.9749999999999998, target=Player(name='Bob', health=100, max_health=100, damage=9223372036854775807, dodge_chance=0.9749999999999998, target=...)),\n",
       " Player(name='Bob', health=100, max_health=100, damage=9223372036854775807, dodge_chance=0.9749999999999998, target=Player(name='Nicole', health=100, max_health=100, damage=9223372036854775807, dodge_chance=0.9749999999999998, target=...))]"
      ]
     },
     "execution_count": 146,
     "metadata": {},
     "output_type": "execute_result"
    }
   ],
   "source": [
    "players"
   ]
  },
  {
   "cell_type": "code",
   "execution_count": null,
   "id": "2f2fe6d1",
   "metadata": {},
   "outputs": [],
   "source": []
  }
 ],
 "metadata": {
  "kernelspec": {
   "display_name": "Python 3 (ipykernel)",
   "language": "python",
   "name": "python3"
  },
  "language_info": {
   "codemirror_mode": {
    "name": "ipython",
    "version": 3
   },
   "file_extension": ".py",
   "mimetype": "text/x-python",
   "name": "python",
   "nbconvert_exporter": "python",
   "pygments_lexer": "ipython3",
   "version": "3.10.4"
  },
  "toc": {
   "base_numbering": 1,
   "nav_menu": {},
   "number_sections": true,
   "sideBar": true,
   "skip_h1_title": false,
   "title_cell": "Table of Contents",
   "title_sidebar": "Contents",
   "toc_cell": false,
   "toc_position": {},
   "toc_section_display": true,
   "toc_window_display": false
  }
 },
 "nbformat": 4,
 "nbformat_minor": 5
}
